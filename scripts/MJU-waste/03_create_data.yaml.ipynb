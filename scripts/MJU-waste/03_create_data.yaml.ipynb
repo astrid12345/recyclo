{
  "cells": [
    {
      "cell_type": "code",
      "execution_count": null,
      "id": "VmzDEHmX57T-",
      "metadata": {
        "colab": {
          "base_uri": "https://localhost:8080/"
        },
        "id": "VmzDEHmX57T-",
        "outputId": "aebcf367-6cbc-49ac-aeb7-531f365d911f"
      },
      "outputs": [],
      "source": [
        "pip install ultralytics"
      ]
    },
    {
      "cell_type": "code",
      "execution_count": null,
      "id": "c7b58546",
      "metadata": {
        "colab": {
          "base_uri": "https://localhost:8080/"
        },
        "id": "c7b58546",
        "outputId": "65a280e9-cea9-41cc-b1f9-8ed58a3bcff0"
      },
      "outputs": [],
      "source": [
        "import zipfile\n",
        "from pathlib import Path\n",
        "import gdown\n",
        "from ultralytics import YOLO\n",
        "import yaml\n",
        "import cv2\n",
        "from random import sample\n",
        "import matplotlib.pyplot as plt\n",
        "import os"
      ]
    },
    {
      "cell_type": "code",
      "execution_count": null,
      "id": "e03722fa",
      "metadata": {
        "id": "e03722fa"
      },
      "outputs": [],
      "source": [
        "google_drive_file_id = '10JylvIoTHO3hV8-aOnVlKIAzb_gZJfRN'  # <-- From sharing link in google drive, https://drive.google.com/file/d/10JylvIoTHO3hV8-aOnVlKIAzb_gZJfRN/view?usp=drive_link\n",
        "google_drive_file_name = '20250616_mju_waste_yolo_2475.zip'\n",
        "project_root = Path('/content')\n",
        "dataset_root_name = 'yolo_dataset'\n",
        "output_path = project_root / google_drive_file_name\n",
        "extract_dir = project_root / dataset_root_name\n",
        "dataset_root_path = Path('/content') / dataset_root_name\n",
        "yaml_path = dataset_root_path / 'data.yaml'\n"
      ]
    },
    {
      "cell_type": "code",
      "execution_count": null,
      "id": "WwggP_XN8-U6",
      "metadata": {
        "colab": {
          "base_uri": "https://localhost:8080/"
        },
        "id": "WwggP_XN8-U6",
        "outputId": "33223834-4d83-4dcc-f836-572d38ffd08b"
      },
      "outputs": [],
      "source": [
        "print(\"working dir is \" + str(dataset_root_path))"
      ]
    },
    {
      "cell_type": "code",
      "execution_count": null,
      "id": "8e5796e8",
      "metadata": {
        "colab": {
          "base_uri": "https://localhost:8080/"
        },
        "id": "8e5796e8",
        "outputId": "ace6f2b4-bb11-4ce3-b95f-03505658a566"
      },
      "outputs": [],
      "source": [
        "# download from Google Drive and extract\n",
        "gdown.download(id=google_drive_file_id, output=str(output_path), quiet=False)\n",
        "print(f\"Dataset downloaded from google drive: {output_path}\\n\")\n",
        "\n",
        "print(\"Extracting...\\n\")\n",
        "with zipfile.ZipFile(output_path, 'r') as zip_ref:\n",
        "    zip_ref.extractall(extract_dir)\n",
        "print(f\"Dataset extracted to: {extract_dir}\\n\", )"
      ]
    },
    {
      "cell_type": "code",
      "execution_count": null,
      "id": "mkHD1sTKb-O0",
      "metadata": {
        "colab": {
          "base_uri": "https://localhost:8080/"
        },
        "id": "mkHD1sTKb-O0",
        "outputId": "b41f09fa-67d1-4f74-913f-fc87dad0fa65"
      },
      "outputs": [],
      "source": [
        "  # if nessecary delete the old data.yaml\n",
        "  os.remove(dataset_root_path / 'data.yaml')\n",
        "  print(f\"Deleted file: {dataset_root_path / 'data.yaml'}\")"
      ]
    },
    {
      "cell_type": "code",
      "execution_count": null,
      "id": "4lkHh4CitZ_y",
      "metadata": {
        "colab": {
          "base_uri": "https://localhost:8080/"
        },
        "id": "4lkHh4CitZ_y",
        "outputId": "af80adec-16a1-462c-caf6-3a91c7995e91"
      },
      "outputs": [],
      "source": [
        "# update root path\n",
        "dataset_root_path = Path('/content') / dataset_root_name / \"20250616_mju_waste_yolo_2475\"\n",
        "dataset_root_path"
      ]
    },
    {
      "cell_type": "code",
      "execution_count": null,
      "id": "EG5MVjtbB306",
      "metadata": {
        "colab": {
          "base_uri": "https://localhost:8080/"
        },
        "id": "EG5MVjtbB306",
        "outputId": "c8f0e7bf-a76a-40a6-c2ec-08c753348f2f"
      },
      "outputs": [],
      "source": [
        "# create updated data.yaml\n",
        "categories = [{'id': 0, 'name': 'trash'}]  # Replace this with your actual categories\n",
        "\n",
        "train_path = dataset_root_path / 'images' / 'train'\n",
        "val_path = dataset_root_path / 'images' / 'val'\n",
        "test_path = dataset_root_path / 'images' / 'test'\n",
        "# Build the data dictionary\n",
        "data = {\n",
        "    'train': str(train_path),\n",
        "    'val': str(val_path),\n",
        "    'test': str(test_path),\n",
        "    'nc': len(categories),\n",
        "    'names': [cat['name'] for cat in categories]\n",
        "}\n",
        "\n",
        "with open(dataset_root_path / 'data.yaml', 'w') as file:\n",
        "    yaml.dump(data, file, default_flow_style=False)\n",
        "\n",
        "print(\"data.yaml created successfully.\")\n"
      ]
    },
    {
      "cell_type": "code",
      "execution_count": null,
      "id": "1db0e022",
      "metadata": {
        "colab": {
          "base_uri": "https://localhost:8080/"
        },
        "id": "1db0e022",
        "outputId": "5ada475c-7216-4e4c-e966-e164e2f870e7"
      },
      "outputs": [],
      "source": [
        "# OPTIONAL: Sanity check that it's possible to train a model with the dataset\n",
        "dataset_yaml = Path(dataset_root_path / 'data.yaml')\n",
        "model = YOLO('yolo11n.pt')\n",
        "results = model.train(data=str(dataset_yaml), epochs=1, imgsz=640)\n",
        "\n",
        "print(f\"Training complete. Results saved to: {model.trainer.save_dir}\")"
      ]
    },
    {
      "cell_type": "code",
      "execution_count": null,
      "id": "BHkI-Dvf-Gsg",
      "metadata": {
        "colab": {
          "base_uri": "https://localhost:8080/"
        },
        "id": "BHkI-Dvf-Gsg",
        "outputId": "3a2f4e0c-6f9a-4692-95e6-c7315ad0c661"
      },
      "outputs": [],
      "source": [
        "# Get the latest results\n",
        "runs_detect_dir = Path('runs/detect')\n",
        "train_dirs = [d for d in runs_detect_dir.iterdir() if d.is_dir() and d.name.startswith(\"train\")]\n",
        "train_dirs.sort(key=lambda d: d.stat().st_mtime, reverse=True)  # sort by modification time\n",
        "latest_train_dir = train_dirs[0]\n",
        "print(latest_train_dir)\n",
        "\n",
        "best_model_path = latest_train_dir / 'weights' / 'best.pt'\n",
        "print(f\"Loading {best_model_path}\")\n"
      ]
    },
    {
      "cell_type": "code",
      "execution_count": null,
      "id": "slX4WVLN-1Ry",
      "metadata": {
        "colab": {
          "base_uri": "https://localhost:8080/",
          "height": 1000
        },
        "id": "slX4WVLN-1Ry",
        "outputId": "a8406c0a-6706-4079-dcef-fe9635f3ab9b"
      },
      "outputs": [],
      "source": [
        "# Load the model and try it out\n",
        "model = YOLO(best_model_path)\n",
        "train_images_path = dataset_root_path / \"images\" / \"train\"\n",
        "image_files = list(train_images_path.glob('*.jpg'))\n",
        "\n",
        "sample_images = sample(image_files, 10)\n",
        "\n",
        "for image_path in sample_images:\n",
        "    result = model(image_path)[0]\n",
        "    annotated_image = result.plot()\n",
        "\n",
        "    plt.figure(figsize=(8, 6))\n",
        "    plt.imshow(annotated_image)\n",
        "    plt.title(f'Predictions: {image_path.name}')\n",
        "    plt.axis('off')\n",
        "    plt.show()"
      ]
    }
  ],
  "metadata": {
    "accelerator": "GPU",
    "colab": {
      "gpuType": "T4",
      "provenance": []
    },
    "kernelspec": {
      "display_name": "Python 3",
      "name": "python3"
    },
    "language_info": {
      "name": "python"
    }
  },
  "nbformat": 4,
  "nbformat_minor": 5
}
