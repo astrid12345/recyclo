{
 "cells": [
  {
   "cell_type": "code",
   "execution_count": null,
   "id": "c7b58546",
   "metadata": {},
   "outputs": [],
   "source": [
    "import zipfile\n",
    "from pathlib import Path\n",
    "import gdown\n",
    "from ultralytics import YOLO\n",
    "import yaml"
   ]
  },
  {
   "cell_type": "code",
   "execution_count": null,
   "id": "e03722fa",
   "metadata": {},
   "outputs": [],
   "source": [
    "google_drive_file_id = '1ZK9J4sU1jen3CPZgY0gDsTfz9Qoh9msN'  # <-- From sharing link in google drive, eg https://drive.google.com/file/d/1ZK9J4sU1jen3CPZgY0gDsTfz9Qoh9msN/view?usp=drive_link\n",
    "google_drive_file_name = '20250602z_mju-waste_yolo.zip'\n",
    "project_root = Path('/content')\n",
    "dataset_root_name = 'yolo_dataset'\n",
    "output_path = project_root / google_drive_file_name\n",
    "extract_dir = project_root / dataset_root_name\n",
    "dataset_root_path = Path('/content') / dataset_root_name\n",
    "yaml_path = dataset_root_path / 'data.yaml'\n"
   ]
  },
  {
   "cell_type": "code",
   "execution_count": null,
   "id": "8e5796e8",
   "metadata": {},
   "outputs": [],
   "source": [
    "# download from Google Drive and extract\n",
    "gdown.download(id=google_drive_file_id, output=str(output_path), quiet=False)\n",
    "print(f\"Dataset downloaded from google drive: {output_path}\\n\")\n",
    "\n",
    "print(\"Extracting...\\n\")\n",
    "with zipfile.ZipFile(output_path, 'r') as zip_ref:\n",
    "    zip_ref.extractall(extract_dir)\n",
    "print(f\"Dataset extracted to: {extract_dir}\\n\", )"
   ]
  },
  {
   "cell_type": "code",
   "execution_count": null,
   "id": "328134ea",
   "metadata": {},
   "outputs": [],
   "source": [
    "# Update path in data.yaml to work with where we've unzipped it\n",
    "print(\"Updating data.yaml path...\\n\")\n",
    "with yaml_path.open('r') as file:\n",
    "    data = yaml.safe_load(file)\n",
    "\n",
    "data['path'] = str(dataset_root_path)\n",
    "\n",
    "with yaml_path.open('w') as file:\n",
    "    yaml.dump(data, file)\n",
    "\n",
    "print(f\"Updated path in data.yaml to: {data['path']}\")"
   ]
  },
  {
   "cell_type": "code",
   "execution_count": null,
   "id": "1db0e022",
   "metadata": {},
   "outputs": [],
   "source": [
    "# Sanity check that it's possible to train a model with the dataset\n",
    "dataset_yaml = Path('/content/yolo_dataset/data.yaml')\n",
    "model = YOLO('yolo11n.pt')\n",
    "results = model.train(data=str(dataset_yaml), epochs=1, imgsz=640)\n",
    "\n",
    "print(f\"Training complete. Results saved to: {model.trainer.save_dir}\")"
   ]
  }
 ],
 "metadata": {
  "language_info": {
   "name": "python"
  }
 },
 "nbformat": 4,
 "nbformat_minor": 5
}
