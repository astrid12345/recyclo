{
 "cells": [
  {
   "cell_type": "code",
   "execution_count": 8,
   "id": "b3b072aa",
   "metadata": {},
   "outputs": [
    {
     "name": "stdout",
     "output_type": "stream",
     "text": [
      "Ultralytics 8.3.146  Python-3.11.9 torch-2.6.0+cu118 CUDA:0 (GeForce GTX 1650, 4096MiB)\n",
      "Setup complete  (12 CPUs, 15.9 GB RAM, 136.9/931.5 GB disk)\n"
     ]
    }
   ],
   "source": [
    "import ultralytics\n",
    "ultralytics.checks()\n",
    "import json\n",
    "import os\n",
    "from sklearn.model_selection import train_test_split\n",
    "import shutil\n",
    "from ultralytics import YOLO"
   ]
  },
  {
   "cell_type": "code",
   "execution_count": null,
   "id": "70e9b449",
   "metadata": {},
   "outputs": [],
   "source": [
    "# data: \n",
    "# download the dataset from https://datasetninja.com/mju-waste#download and place in folder 'data/mju-waste-COCO\n",
    "# clone the instances.json files from https://github.com/realwecan/mju-waste and place in folder 'data/mju-waste-COCO/annotations'"
   ]
  },
  {
   "cell_type": "code",
   "execution_count": 3,
   "id": "d5ad9ac0",
   "metadata": {},
   "outputs": [],
   "source": [
    "def coco_to_yolo(coco_json_path, image_dir, output_label_dir):\n",
    "    \"\"\"\n",
    "    Convert COCO-format annotations to YOLO format for given dataset layout.\n",
    "    \n",
    "    Args:\n",
    "        coco_json_path (str): Path to COCO .json file (e.g., test/ann/instances_test.json)\n",
    "        image_dir (str): Path to images (e.g., test/img/)\n",
    "        output_label_dir (str): Output directory for YOLO .txt files (e.g., test/labels/)\n",
    "    \"\"\"\n",
    "    os.makedirs(output_label_dir, exist_ok=True)\n",
    "\n",
    "    with open(coco_json_path, 'r') as f:\n",
    "        coco = json.load(f)\n",
    "\n",
    "    image_map = {img['id']: img for img in coco['images']}\n",
    "    category_id_to_class_id = {cat['id']: i for i, cat in enumerate(coco['categories'])}\n",
    "\n",
    "    # Group annotations per image\n",
    "    annotations_per_image = {}\n",
    "    for ann in coco['annotations']:\n",
    "        image_id = ann['image_id']\n",
    "        annotations_per_image.setdefault(image_id, []).append(ann)\n",
    "\n",
    "    for image_id, anns in annotations_per_image.items():\n",
    "        image_info = image_map[image_id]\n",
    "        img_w, img_h = image_info['width'], image_info['height']\n",
    "        img_filename = image_info['file_name']\n",
    "        base_name = os.path.splitext(img_filename)[0]\n",
    "        yolo_label_path = os.path.join(output_label_dir, base_name + \".txt\")\n",
    "\n",
    "        lines = []\n",
    "        for ann in anns:\n",
    "            if ann.get(\"iscrowd\", 0):\n",
    "                continue\n",
    "            x, y, w, h = ann[\"bbox\"]\n",
    "            x_center = (x + w / 2) / img_w\n",
    "            y_center = (y + h / 2) / img_h\n",
    "            w_norm = w / img_w\n",
    "            h_norm = h / img_h\n",
    "            class_id = category_id_to_class_id[ann[\"category_id\"]]\n",
    "            lines.append(f\"{class_id} {x_center:.6f} {y_center:.6f} {w_norm:.6f} {h_norm:.6f}\")\n",
    "\n",
    "        with open(yolo_label_path, \"w\") as f:\n",
    "            f.write(\"\\n\".join(lines))\n",
    "\n",
    "    print(f\"✅ Converted COCO to YOLO: {len(annotations_per_image)} files written to {output_label_dir}\")\n"
   ]
  },
  {
   "cell_type": "code",
   "execution_count": 5,
   "id": "cf5b68e7",
   "metadata": {},
   "outputs": [
    {
     "name": "stdout",
     "output_type": "stream",
     "text": [
      "✅ Converted COCO to YOLO: 742 files written to ../data/mju-YOLO/test/labels\n",
      "✅ Converted COCO to YOLO: 1477 files written to ../data/mju-YOLO/train/labels\n",
      "✅ Converted COCO to YOLO: 248 files written to ../data/mju-YOLO/val/labels\n"
     ]
    }
   ],
   "source": [
    "coco_to_yolo(\n",
    "    coco_json_path=\"../data/mju-waste-COCO/annotations/test.json\",\n",
    "    image_dir=\"../data/mju-waste-COCO/test/img\",\n",
    "    output_label_dir=\"../data/mju-YOLO/test/labels\"\n",
    ")\n",
    "coco_to_yolo(\n",
    "    coco_json_path=\"../data/mju-waste-COCO/annotations/train.json\",\n",
    "    image_dir=\"../data/mju-waste-COCO/train/img\",\n",
    "    output_label_dir=\"../data/mju-YOLO/train/labels\"\n",
    ")\n",
    "coco_to_yolo(\n",
    "    coco_json_path=\"../data/mju-waste-COCO/annotations/val.json\",\n",
    "    image_dir=\"../data/mju-waste-COCO/val/img\",\n",
    "    output_label_dir=\"../data/mju-YOLO/val/labels\"\n",
    ")"
   ]
  },
  {
   "cell_type": "code",
   "execution_count": 18,
   "id": "80351494",
   "metadata": {},
   "outputs": [],
   "source": [
    "yaml_path = 'data.yaml'\n",
    "\n",
    "# Create data.yaml\n",
    "with open(yaml_path, 'w') as f:\n",
    "    f.write(f\"test: {os.path.abspath('test/images')}\\n\")\n",
    "    f.write(f\"train: {os.path.abspath('train/images')}\\n\")\n",
    "    f.write(f\"val: {os.path.abspath('val/images')}\\n\")\n",
    "    f.write(\"nc: 1\\n\") #number of classes in the dataset.\n",
    "    categories = json.load(open('../mju-waste-COCO/annotations/train.json', 'r'))['categories']\n",
    "    f.write(\"names: \" + str([cat['name'] for cat in categories]) + \"\\n\")\n"
   ]
  }
 ],
 "metadata": {
  "kernelspec": {
   "display_name": "CUDA_py3.11",
   "language": "python",
   "name": "python3"
  },
  "language_info": {
   "codemirror_mode": {
    "name": "ipython",
    "version": 3
   },
   "file_extension": ".py",
   "mimetype": "text/x-python",
   "name": "python",
   "nbconvert_exporter": "python",
   "pygments_lexer": "ipython3",
   "version": "3.11.9"
  }
 },
 "nbformat": 4,
 "nbformat_minor": 5
}
