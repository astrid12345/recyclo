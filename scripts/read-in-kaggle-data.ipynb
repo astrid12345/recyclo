{
 "cells": [
  {
   "cell_type": "code",
   "execution_count": null,
   "id": "5505ac20",
   "metadata": {},
   "outputs": [
    {
     "name": "stdout",
     "output_type": "stream",
     "text": [
      "Requirement already satisfied: pip in d:\\ai_track\\cuda_py3.11\\lib\\site-packages (25.0.1)\n",
      "Collecting pip\n",
      "  Downloading pip-25.1.1-py3-none-any.whl.metadata (3.6 kB)\n",
      "Downloading pip-25.1.1-py3-none-any.whl (1.8 MB)\n",
      "   ---------------------------------------- 0.0/1.8 MB ? eta -:--:--\n",
      "   ---------------------------------- ----- 1.6/1.8 MB 12.0 MB/s eta 0:00:01\n",
      "   ---------------------------------------- 1.8/1.8 MB 9.1 MB/s eta 0:00:00\n",
      "Installing collected packages: pip\n",
      "  Attempting uninstall: pip\n",
      "    Found existing installation: pip 25.0.1\n",
      "    Uninstalling pip-25.0.1:\n",
      "      Successfully uninstalled pip-25.0.1\n",
      "Successfully installed pip-25.1.1\n"
     ]
    }
   ],
   "source": [
    "!python.exe -m pip install --upgrade pip\n",
    "!pip install kagglehub"
   ]
  },
  {
   "cell_type": "code",
   "execution_count": null,
   "id": "b69be0a7",
   "metadata": {},
   "outputs": [
    {
     "name": "stdout",
     "output_type": "stream",
     "text": [
      "Downloading from https://www.kaggle.com/api/v1/datasets/download/nw8vqlafd/street-classification-dataset?dataset_version_number=1...\n"
     ]
    },
    {
     "name": "stderr",
     "output_type": "stream",
     "text": [
      "100%|██████████| 1.20G/1.20G [01:05<00:00, 19.8MB/s]"
     ]
    },
    {
     "name": "stdout",
     "output_type": "stream",
     "text": [
      "Extracting files...\n"
     ]
    },
    {
     "name": "stderr",
     "output_type": "stream",
     "text": [
      "\n"
     ]
    },
    {
     "name": "stdout",
     "output_type": "stream",
     "text": [
      "Path to dataset files: C:\\Users\\astri\\.cache\\kagglehub\\datasets\\nw8vqlafd\\street-classification-dataset\\versions\\1\n"
     ]
    }
   ],
   "source": [
    "import kagglehub\n",
    "import os\n",
    "import shutil\n",
    "\n",
    "# Download latest version\n",
    "path = kagglehub.dataset_download(\"nw8vqlafd/street-classification-dataset\")\n",
    "\n",
    "print(\"Path to dataset files:\", path)"
   ]
  },
  {
   "cell_type": "code",
   "execution_count": null,
   "id": "35f3d31b",
   "metadata": {},
   "outputs": [
    {
     "name": "stdout",
     "output_type": "stream",
     "text": [
      "Only 'litter/' folder kept in: C:\\Users\\astri\\.cache\\kagglehub\\datasets\\nw8vqlafd\\street-classification-dataset\\versions\\1\n"
     ]
    }
   ],
   "source": [
    "# Keep only the 'litter/' subfolder\n",
    "for item in os.listdir(path):\n",
    "    item_path = os.path.join(path, item)\n",
    "    if item != \"litter\":\n",
    "        shutil.rmtree(item_path)\n",
    "\n",
    "print(f\"Only 'litter/' folder kept in: {path}\")\n",
    "\n",
    "# rename\n",
    "new_path = os.path.join(os.path.dirname(path), \"littered_streets\")\n",
    "\n",
    "# Rename folder\n",
    "os.rename(path, new_path)\n",
    "\n",
    "print(f\"Dataset folder renamed to: {new_path}\")"
   ]
  }
 ],
 "metadata": {
  "kernelspec": {
   "display_name": "CUDA_py3.11",
   "language": "python",
   "name": "python3"
  },
  "language_info": {
   "codemirror_mode": {
    "name": "ipython",
    "version": 3
   },
   "file_extension": ".py",
   "mimetype": "text/x-python",
   "name": "python",
   "nbconvert_exporter": "python",
   "pygments_lexer": "ipython3",
   "version": "3.11.9"
  }
 },
 "nbformat": 4,
 "nbformat_minor": 5
}
