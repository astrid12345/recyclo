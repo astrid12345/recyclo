{
 "cells": [
  {
   "cell_type": "code",
   "execution_count": 2,
   "id": "7f9cdb15",
   "metadata": {},
   "outputs": [],
   "source": [
    "import os\n",
    "import json\n",
    "import random\n",
    "import cv2\n",
    "import matplotlib.pyplot as plt"
   ]
  },
  {
   "cell_type": "code",
   "execution_count": null,
   "id": "73a87ae9",
   "metadata": {},
   "outputs": [],
   "source": [
    "# simple script to plot 3 random images with their bounding boxes"
   ]
  },
  {
   "cell_type": "code",
   "execution_count": null,
   "id": "ea26a1ec",
   "metadata": {},
   "outputs": [],
   "source": [
    "image_dir = \"images/train\"\n",
    "annotation_file = \"annotations/train.json\"\n",
    "output_dir = \"results\"\n",
    "os.makedirs(output_dir, exist_ok=True)"
   ]
  },
  {
   "cell_type": "code",
   "execution_count": 8,
   "id": "e4f121f1",
   "metadata": {},
   "outputs": [],
   "source": [
    "# load data\n",
    "with open(annotation_file, \"r\") as f:\n",
    "    coco = json.load(f)\n",
    "images = coco[\"images\"]\n",
    "annotations = coco[\"annotations\"]\n"
   ]
  },
  {
   "cell_type": "code",
   "execution_count": 9,
   "id": "c65afdf7",
   "metadata": {},
   "outputs": [
    {
     "name": "stdout",
     "output_type": "stream",
     "text": [
      "Saved: results_old\\2020-01-07_17_07_23-84_color.png_bbox.png\n",
      "Saved: results_old\\2019-09-19_16_22_28-16_color.png_bbox.png\n",
      "Saved: results_old\\2020-01-07_17_06_44-27_color.png_bbox.png\n"
     ]
    }
   ],
   "source": [
    "# get annotations by image\n",
    "ann_by_image = {}\n",
    "for ann in annotations:\n",
    "    img_id = ann[\"image_id\"]\n",
    "    ann_by_image.setdefault(img_id, []).append(ann)\n",
    "\n",
    "# choose 3 random images\n",
    "random_images = random.sample(images, 3)\n",
    "\n",
    "for img_info in random_images:\n",
    "    img_id = img_info[\"id\"]\n",
    "    img_path = os.path.join(image_dir, img_info[\"file_name\"])\n",
    "    \n",
    "    # Load image\n",
    "    img = cv2.imread(img_path)\n",
    "    if img is None:\n",
    "        print(f\"Failed to load image: {img_path}\")\n",
    "        continue\n",
    "    img = cv2.cvtColor(img, cv2.COLOR_BGR2RGB)\n",
    "\n",
    "    # Draw bounding boxes\n",
    "    for ann in ann_by_image.get(img_id, []):\n",
    "        x, y, w, h = map(int, ann[\"bbox\"])\n",
    "        cv2.rectangle(img, (x, y), (x + w, y + h), color=(255, 0, 0), thickness=2)\n",
    "\n",
    "    # Plot and save\n",
    "    plt.figure(figsize=(6, 4))\n",
    "    plt.imshow(img)\n",
    "    plt.axis('off')\n",
    "    out_path = os.path.join(output_dir, f\"{img_info['file_name']}_bbox.png\")\n",
    "    plt.savefig(out_path, bbox_inches='tight', pad_inches=0)\n",
    "    plt.close()\n",
    "    print(f\"Saved: {out_path}\")"
   ]
  }
 ],
 "metadata": {
  "kernelspec": {
   "display_name": "CUDA_py3.11",
   "language": "python",
   "name": "python3"
  },
  "language_info": {
   "codemirror_mode": {
    "name": "ipython",
    "version": 3
   },
   "file_extension": ".py",
   "mimetype": "text/x-python",
   "name": "python",
   "nbconvert_exporter": "python",
   "pygments_lexer": "ipython3",
   "version": "3.11.9"
  }
 },
 "nbformat": 4,
 "nbformat_minor": 5
}
