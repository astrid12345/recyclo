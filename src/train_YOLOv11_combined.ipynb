{
 "cells": [
  {
   "cell_type": "markdown",
   "id": "3017930a",
   "metadata": {},
   "source": [
    "Script to fine the model in google colabs using cleaned and combined Aquatrash, TACO and MJU-waste datasets"
   ]
  },
  {
   "cell_type": "markdown",
   "id": "271a51b1",
   "metadata": {},
   "source": [
    "print content of data.yaml to check content"
   ]
  },
  {
   "cell_type": "markdown",
   "id": "e4b842e4",
   "metadata": {},
   "source": [
    "choose model architecture"
   ]
  },
  {
   "cell_type": "code",
   "execution_count": null,
   "id": "0ba576e0",
   "metadata": {
    "vscode": {
     "languageId": "plaintext"
    }
   },
   "outputs": [],
   "source": [
    "benchmark and evaluate"
   ]
  },
  {
   "cell_type": "code",
   "execution_count": null,
   "id": "5c0fcda0",
   "metadata": {
    "vscode": {
     "languageId": "plaintext"
    }
   },
   "outputs": [],
   "source": [
    "# optional, export model"
   ]
  },
  {
   "cell_type": "code",
   "execution_count": null,
   "id": "ffe84fd5",
   "metadata": {
    "vscode": {
     "languageId": "plaintext"
    }
   },
   "outputs": [],
   "source": [
    "run inference"
   ]
  }
 ],
 "metadata": {
  "language_info": {
   "name": "python"
  }
 },
 "nbformat": 4,
 "nbformat_minor": 5
}
