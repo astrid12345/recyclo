{
  "nbformat": 4,
  "nbformat_minor": 0,
  "metadata": {
    "colab": {
      "provenance": [],
      "authorship_tag": "ABX9TyON43RPXVKmfUD5caH8nSqY",
      "include_colab_link": true
    },
    "kernelspec": {
      "name": "python3",
      "display_name": "Python 3"
    },
    "language_info": {
      "name": "python"
    }
  },
  "cells": [
    {
      "cell_type": "markdown",
      "metadata": {
        "id": "view-in-github",
        "colab_type": "text"
      },
      "source": [
        "<a href=\"https://colab.research.google.com/github/astrid12345/recyclo/blob/convert_taco_to_yolo/src/train_YOLOv8.ipynb\" target=\"_parent\"><img src=\"https://colab.research.google.com/assets/colab-badge.svg\" alt=\"Open In Colab\"/></a>"
      ]
    },
    {
      "cell_type": "markdown",
      "source": [
        "This is a bare-bones file that demonstrates downloading a dataset from google drive and using it to train a YOLOv8 model.\n",
        "\n",
        "Consider this a placeholder only - if you're training a model for real, please overhaul this file however you deem necessary!"
      ],
      "metadata": {
        "id": "TwJ2mXuWkxUr"
      }
    },
    {
      "cell_type": "code",
      "execution_count": null,
      "metadata": {
        "id": "eenbcsguRgOT"
      },
      "outputs": [],
      "source": [
        "!pip install -U ultralytics gdown"
      ]
    },
    {
      "cell_type": "code",
      "source": [
        "google_drive_file_id = '1ZK9J4sU1jen3CPZgY0gDsTfz9Qoh9msN'  # <-- From sharing link in google drive, eg https://drive.google.com/file/d/1ZK9J4sU1jen3CPZgY0gDsTfz9Qoh9msN/view?usp=drive_link\n",
        "google_drive_file_name = '20250530_taco_yolo.zip'"
      ],
      "metadata": {
        "id": "7GbLG6fmSZJ1"
      },
      "execution_count": null,
      "outputs": []
    },
    {
      "cell_type": "code",
      "source": [
        "import zipfile\n",
        "from pathlib import Path\n",
        "import gdown\n",
        "from ultralytics import YOLO\n",
        "import yaml\n",
        "\n",
        "project_root = Path('/content')\n",
        "dataset_root_name = 'yolo_dataset'\n",
        "output_path = project_root / google_drive_file_name\n",
        "extract_dir = project_root / dataset_root_name\n",
        "dataset_root_path = Path('/content') / dataset_root_name\n",
        "yaml_path = dataset_root_path / 'data.yaml'\n",
        "\n",
        "# Download from Google Drive and extract\n",
        "gdown.download(id=google_drive_file_id, output=str(output_path), quiet=False)\n",
        "print(f\"Dataset downloaded from google drive: {output_path}\\n\")\n",
        "\n",
        "print(\"Extracting...\\n\")\n",
        "with zipfile.ZipFile(output_path, 'r') as zip_ref:\n",
        "    zip_ref.extractall(extract_dir)\n",
        "print(f\"Dataset extracted to: {extract_dir}\\n\", )\n",
        "\n",
        "# Update path in data.yaml to work with where we've unzipped it\n",
        "print(\"Updating data.yaml path...\\n\")\n",
        "with yaml_path.open('r') as file:\n",
        "    data = yaml.safe_load(file)\n",
        "\n",
        "data['path'] = str(dataset_root_path)\n",
        "\n",
        "with yaml_path.open('w') as file:\n",
        "    yaml.dump(data, file)\n",
        "\n",
        "print(f\"Updated path in data.yaml to: {data['path']}\")"
      ],
      "metadata": {
        "id": "myyJ41lbRmQJ"
      },
      "execution_count": null,
      "outputs": []
    },
    {
      "cell_type": "code",
      "source": [
        "# Sanity check that it's possible to train a model with the dataset\n",
        "dataset_yaml = Path('/content/yolo_dataset/data.yaml')\n",
        "model = YOLO('yolov8n.pt')\n",
        "results = model.train(data=str(dataset_yaml), epochs=1, imgsz=640)\n",
        "\n",
        "print(f\"Training complete. Results saved to: {model.trainer.save_dir}\")"
      ],
      "metadata": {
        "id": "iDafER9bV2vH"
      },
      "execution_count": null,
      "outputs": []
    }
  ]
}